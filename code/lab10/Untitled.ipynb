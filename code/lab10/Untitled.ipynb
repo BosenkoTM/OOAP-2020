{
 "cells": [
  {
   "cell_type": "markdown",
   "metadata": {},
   "source": [
    "# Синтаксис Python (продолжение)\n"
   ]
  },
  {
   "cell_type": "markdown",
   "metadata": {},
   "source": [
    "## Справка по функциям и классам\n",
    "\n",
    "В языке python есть встроенные механизмы, позволяющие отображать справку по библиотекам, функциям и классам языка python. К таким механизмам относятся документ-строки и функция `help()`. Данная функция позволяет вывести справочную информацию о другом объекте. Даже если вы знаете про интересующий вас объект, иногда бывает полезно посмотреть документ-строку к нему."
   ]
  },
  {
   "cell_type": "code",
   "execution_count": 1,
   "metadata": {},
   "outputs": [
    {
     "name": "stdout",
     "output_type": "stream",
     "text": [
      "Help on built-in function print in module builtins:\n",
      "\n",
      "print(...)\n",
      "    print(value, ..., sep=' ', end='\\n', file=sys.stdout, flush=False)\n",
      "    \n",
      "    Prints the values to a stream, or to sys.stdout by default.\n",
      "    Optional keyword arguments:\n",
      "    file:  a file-like object (stream); defaults to the current sys.stdout.\n",
      "    sep:   string inserted between values, default a space.\n",
      "    end:   string appended after the last value, default a newline.\n",
      "    flush: whether to forcibly flush the stream.\n",
      "\n"
     ]
    }
   ],
   "source": [
    "help(print)"
   ]
  },
  {
   "cell_type": "code",
   "execution_count": 2,
   "metadata": {
    "scrolled": false
   },
   "outputs": [
    {
     "name": "stdout",
     "output_type": "stream",
     "text": [
      "Help on _Helper in module _sitebuiltins object:\n",
      "\n",
      "class _Helper(builtins.object)\n",
      " |  Define the builtin 'help'.\n",
      " |  \n",
      " |  This is a wrapper around pydoc.help that provides a helpful message\n",
      " |  when 'help' is typed at the Python interactive prompt.\n",
      " |  \n",
      " |  Calling help() at the Python prompt starts an interactive help session.\n",
      " |  Calling help(thing) prints help for the python object 'thing'.\n",
      " |  \n",
      " |  Methods defined here:\n",
      " |  \n",
      " |  __call__(self, *args, **kwds)\n",
      " |      Call self as a function.\n",
      " |  \n",
      " |  __repr__(self)\n",
      " |      Return repr(self).\n",
      " |  \n",
      " |  ----------------------------------------------------------------------\n",
      " |  Data descriptors defined here:\n",
      " |  \n",
      " |  __dict__\n",
      " |      dictionary for instance variables (if defined)\n",
      " |  \n",
      " |  __weakref__\n",
      " |      list of weak references to the object (if defined)\n",
      "\n"
     ]
    }
   ],
   "source": [
    "help(help)"
   ]
  },
  {
   "cell_type": "markdown",
   "metadata": {},
   "source": [
    "Эта справка описывается в так называемых документ-строках. Они позволяют нужную информацию сохранить и  показать. Документ-строки описываются в функцияэ, классах, модулях в начале."
   ]
  },
  {
   "cell_type": "code",
   "execution_count": 3,
   "metadata": {},
   "outputs": [],
   "source": [
    "def spam(a, b):\n",
    "    '''\n",
    "    This is an example function. It returns sum of a and b.\n",
    "    \n",
    "    a: first value\n",
    "    b: second value\n",
    "    \n",
    "    returns: sum of a and b\n",
    "    '''\n",
    "    return a+b"
   ]
  },
  {
   "cell_type": "code",
   "execution_count": 4,
   "metadata": {},
   "outputs": [
    {
     "name": "stdout",
     "output_type": "stream",
     "text": [
      "Help on function spam in module __main__:\n",
      "\n",
      "spam(a, b)\n",
      "    This is an example function. It returns sum of a and b.\n",
      "    \n",
      "    a: first value\n",
      "    b: second value\n",
      "    \n",
      "    returns: sum of a and b\n",
      "\n"
     ]
    }
   ],
   "source": [
    "help(spam)"
   ]
  },
  {
   "cell_type": "markdown",
   "metadata": {},
   "source": [
    "При написании своих программ не забывайте использовать документ-строки. А если не знаетете, что делает и какие параметры принимает функция или для чего нужен класс -- не ленитесь заглядывать в справку прежде чем обращаться за помощью к гуглу и тем более преподавателю."
   ]
  },
  {
   "cell_type": "markdown",
   "metadata": {},
   "source": [
    "## Упражнение 1\n",
    "\n",
    "***\n",
    "Сколько аргументов принимает функция `open`? Чем отличается `mode=\"xb\"` и `mode=\"wb\"`?\n",
    "***"
   ]
  },
  {
   "cell_type": "markdown",
   "metadata": {},
   "source": [
    "\n",
    "## Работа со строками\n",
    "\n",
    "На практике со строками приходится работать достаточно часто. В виде строк поступает вход из команды `input()`, в виде текста читается информация из файла. Поэтому важно разобрать, как именно можно работать с текстовыми данными.\n",
    "\n",
    "Текстовый данные в языке пайтон описываются классом `str`:"
   ]
  },
  {
   "cell_type": "code",
   "execution_count": 5,
   "metadata": {},
   "outputs": [
    {
     "name": "stdout",
     "output_type": "stream",
     "text": [
      "<class 'str'>\n"
     ]
    }
   ],
   "source": [
    "print(type(\"qwerty\"))"
   ]
  },
  {
   "cell_type": "markdown",
   "metadata": {},
   "source": [
    "При этом строка представляет из себя объект-коллекцию и есть возможность получить доступ к отдельным ее элементам по индексу:"
   ]
  },
  {
   "cell_type": "code",
   "execution_count": 6,
   "metadata": {},
   "outputs": [
    {
     "name": "stdout",
     "output_type": "stream",
     "text": [
      "r\n"
     ]
    }
   ],
   "source": [
    "print(\"qwerty\"[3])"
   ]
  },
  {
   "cell_type": "markdown",
   "metadata": {},
   "source": [
    "Строки в языке python являются неизменяемым типом, то есть для того, чтобы изменить, удалить символ из строки или соединить 2 строки в одну, в памяти создается другой объект-строка с результатом.\n",
    "\n",
    "Первый метод строк, который мы рассмотрим -- это метод `str.split(sep=None, maxsplit=-1)`. Он позволяет разбить строку на список строк по определенному разделителю. Разделитель передается в метод первым аргументом. Иногда необходимо разбть не всю строку, а тольео первые `n` участков. Тогда используется аргумент `maxsplit`, который показывет, какое максимальное количество раз требуется делить строку:"
   ]
  },
  {
   "cell_type": "code",
   "execution_count": 7,
   "metadata": {},
   "outputs": [
    {
     "name": "stdout",
     "output_type": "stream",
     "text": [
      "0 ['value1,value2,value3,value4,value5']\n",
      "1 ['value1', 'value2,value3,value4,value5']\n",
      "2 ['value1', 'value2', 'value3,value4,value5']\n",
      "3 ['value1', 'value2', 'value3', 'value4,value5']\n",
      "4 ['value1', 'value2', 'value3', 'value4', 'value5']\n",
      "5 ['value1', 'value2', 'value3', 'value4', 'value5']\n"
     ]
    }
   ],
   "source": [
    "s = \"value1,value2,value3,value4,value5\"\n",
    "\n",
    "for i in range(6):\n",
    "    print(i, s.split(\",\", maxsplit=i))"
   ]
  },
  {
   "cell_type": "markdown",
   "metadata": {},
   "source": [
    "Существует и противоположный метод -- `str.join(iterable)`. Он позволяет объединить список (или другой итерируемый объект) строк в одну строку. При этом разделителем будет выступать исходная строка, у которой мы и вызываем данный метод. При этом `join` **НЕ ПРЕОБРАЗОВЫВАЕТ** объект из коллекции в строку. Следовательно, если в коллекции встретится не строка, метод вылетит по ошибке."
   ]
  },
  {
   "cell_type": "code",
   "execution_count": 8,
   "metadata": {},
   "outputs": [
    {
     "name": "stdout",
     "output_type": "stream",
     "text": [
      "value1;\n",
      "value2;\n",
      "value3;\n",
      "value4;\n",
      "value5\n"
     ]
    }
   ],
   "source": [
    "lst = ['value1', 'value2', 'value3', 'value4', 'value5']\n",
    "\n",
    "print(\";\\n\".join(lst))"
   ]
  },
  {
   "cell_type": "markdown",
   "metadata": {},
   "source": [
    "Метод строк `str.isdigit()` позволяет проверить, состоит ли строка из цифр."
   ]
  },
  {
   "cell_type": "code",
   "execution_count": 9,
   "metadata": {},
   "outputs": [
    {
     "name": "stdout",
     "output_type": "stream",
     "text": [
      "False\n",
      "True\n"
     ]
    }
   ],
   "source": [
    "print(\"asdf\".isdigit())\n",
    "print(\"1234\".isdigit())"
   ]
  },
  {
   "cell_type": "markdown",
   "metadata": {},
   "source": [
    "При обработке строк бывает полезно привести их к нижнему или верхнему регистру. Для этого могут использоваться методы `str.lower()` и `str.upper()` соответственно. Методы `str.islower()` и `str.isupper()` позволяют проверить, принадлежат ли все символы строки к верхнему или к нижнему регимтру соответственно."
   ]
  },
  {
   "cell_type": "code",
   "execution_count": 10,
   "metadata": {},
   "outputs": [
    {
     "name": "stdout",
     "output_type": "stream",
     "text": [
      "False\n",
      "qwerty\n"
     ]
    }
   ],
   "source": [
    "print(\"QwErTy\".islower())\n",
    "print(\"QwErTy\".lower())"
   ]
  },
  {
   "cell_type": "markdown",
   "metadata": {},
   "source": [
    "## Упражение 2\n",
    "\n",
    "**************\n",
    "На вход вашей программе подается строка, состоящая из слов, разделенных символом `;`. Посчитайте количество чисел, слов в ниженм и верхнем регистре, и всех остальных слов.\n",
    "***************"
   ]
  },
  {
   "cell_type": "markdown",
   "metadata": {},
   "source": [
    "Довольно часто вам приходится подставлять значения различных переменных в ваши строки. \n",
    "Существует несколько способов сделать это. Рассмотрим каждый из спсобов.\n",
    "\n",
    "Первый и самый простой способ -- простой сбор строк по кусочкам. При этом переменные необходимо привести к строковому виду.\n",
    "Такой способ порождает путанницу в коде и дополнительный мусор в памяти, так что лучше стараться его избегать."
   ]
  },
  {
   "cell_type": "code",
   "execution_count": 11,
   "metadata": {},
   "outputs": [
    {
     "name": "stdout",
     "output_type": "stream",
     "text": [
      "Value1 = 5, Value2 = 7.5;\n"
     ]
    }
   ],
   "source": [
    "s = \"Value1 = \" + str(5) + \", Value2 = \" + str(7.5) + \";\"\n",
    "\n",
    "print(s)"
   ]
  },
  {
   "cell_type": "markdown",
   "metadata": {},
   "source": [
    "Второй способ аналогичен форматированию в языке С. Этот метод довольно прост, хотя и не слишком гибок. К достоинствам можно отнести, что он является самым быстрым из перечисленных."
   ]
  },
  {
   "cell_type": "code",
   "execution_count": 12,
   "metadata": {},
   "outputs": [
    {
     "name": "stdout",
     "output_type": "stream",
     "text": [
      "Value1 = 05, Value2 = 07.50\n"
     ]
    }
   ],
   "source": [
    "s = \"Value1 = %02d, Value2 = %05.2f\" % (5, 7.5)\n",
    "\n",
    "print(s)"
   ]
  },
  {
   "cell_type": "markdown",
   "metadata": {},
   "source": [
    "Третий способ -- метод `str.format()`. Он является наиболее pythonic способом и обладает очень гибкими возможностями. Кроме простой подстановки значений он также может\n",
    "\n",
    "1. Позволяет получать значения в виде списка\n",
    "2. Указывать номера аргументов\n",
    "3. Использовать словари с названиями аргументов\n",
    "4. Обращаться к атрибутам объектов и элементам коллекци1\n",
    "5. Является callabe и может передаваться в качестве аргумента другим функциям\n",
    "\n",
    "Приведем пример к каждому из пунктов:"
   ]
  },
  {
   "cell_type": "code",
   "execution_count": 13,
   "metadata": {},
   "outputs": [
    {
     "name": "stdout",
     "output_type": "stream",
     "text": [
      "1:\t 1;2;3\n",
      "2:\t 3;1;2;3;2\n",
      "3:\t 1;3;3;2;1\n",
      "4.1:\t 2\n",
      "4.2:\t x: 5; y: 6\n",
      "5.1:\t x=0, y=1\n",
      "5.2:\t x=1, y=3\n",
      "5.3:\t x=5, y=6\n"
     ]
    }
   ],
   "source": [
    "# 1\n",
    "args = [1, 2, 3]\n",
    "s = \"{};{};{}\".format(*args)\n",
    "print(\"1:\\t\", s)\n",
    "\n",
    "# 2\n",
    "s = \"{2};{0};{1};{2};{1}\".format(1, 2, 3)\n",
    "print(\"2:\\t\", s)\n",
    "\n",
    "# 3\n",
    "s = \"{a};{c};{c};{b};{a}\".format(a=1, b=2, c=3)\n",
    "print(\"3:\\t\", s)\n",
    "\n",
    "# 4\n",
    "s = \"{0[1]}\".format([1, 2, 3])\n",
    "print(\"4.1:\\t\", s)\n",
    "\n",
    "class Vector:\n",
    "    def __init__(self, x, y):\n",
    "        self.x = x\n",
    "        self.y = y\n",
    "vec = Vector(5,6)\n",
    "\n",
    "s = \"x: {0.x}; y: {0.y}\".format(vec)\n",
    "print(\"4.2:\\t\", s)\n",
    "\n",
    "#5\n",
    "lst = [[0,1], [1,3], [5,6]]\n",
    "o_map = map(\"x={0[0]}, y={0[1]}\".format, lst)\n",
    "for i, elem in enumerate(o_map):\n",
    "    print(\"5.{}:\\t\".format(i+1), elem)\n"
   ]
  },
  {
   "cell_type": "markdown",
   "metadata": {},
   "source": [
    "## Упражение 3\n",
    "\n",
    "*****\n",
    "Написать функцию, которая нринимает на вход список чисел и возвращает строку, содержащую минимум, максимум, и среднее значение в формате (включая переносы строк):\n",
    "\n",
    "min:  1<br>\n",
    "max:  10<br>\n",
    "mean: 5 \n",
    "*****"
   ]
  },
  {
   "cell_type": "markdown",
   "metadata": {},
   "source": [
    "## Цикл `for`."
   ]
  },
  {
   "cell_type": "markdown",
   "metadata": {},
   "source": [
    "Цикл `for` может использоваться  для различных целей. \n",
    "\n",
    "Самый простой пример использовния цикла:"
   ]
  },
  {
   "cell_type": "code",
   "execution_count": 14,
   "metadata": {},
   "outputs": [
    {
     "name": "stdout",
     "output_type": "stream",
     "text": [
      "0\n",
      "1\n",
      "2\n",
      "3\n",
      "4\n"
     ]
    }
   ],
   "source": [
    "for i in range(5):\n",
    "    print(i)"
   ]
  },
  {
   "cell_type": "markdown",
   "metadata": {},
   "source": [
    "При помощи этого цикла можно итерироваться по любому объекту-коллекции:"
   ]
  },
  {
   "cell_type": "code",
   "execution_count": 15,
   "metadata": {},
   "outputs": [
    {
     "name": "stdout",
     "output_type": "stream",
     "text": [
      "qwerty\n",
      "12345\n",
      "34.42\n"
     ]
    }
   ],
   "source": [
    "lst = [\"qwerty\", 12345, 34.42]\n",
    "\n",
    "for i in lst:\n",
    "    print(i)"
   ]
  },
  {
   "cell_type": "markdown",
   "metadata": {},
   "source": [
    "Но в таком случае встает вопрос, что же общего между объектом-коллекцией и диапазоном значений? `range` является функцией. Попробуем посмотреть, что эта функция возвращает:"
   ]
  },
  {
   "cell_type": "code",
   "execution_count": 52,
   "metadata": {},
   "outputs": [
    {
     "name": "stdout",
     "output_type": "stream",
     "text": [
      "object:\n",
      "\t range(0, 5)\n",
      "type:\n",
      "\t <class 'range'>\n",
      "Methods and attributes:\n",
      "\t ['__bool__', '__class__', '__contains__', '__delattr__', '__dir__', '__doc__', '__eq__', '__format__', '__ge__', '__getattribute__', '__getitem__', '__gt__', '__hash__', '__init__', '__init_subclass__', '__iter__', '__le__', '__len__', '__lt__', '__ne__', '__new__', '__reduce__', '__reduce_ex__', '__repr__', '__reversed__', '__setattr__', '__sizeof__', '__str__', '__subclasshook__', 'count', 'index', 'start', 'step', 'stop']\n"
     ]
    }
   ],
   "source": [
    "a = range(5)\n",
    "\n",
    "print(\"object:\\n\\t\", a)\n",
    "print(\"type:\\n\\t\", type(a))\n",
    "print(\"Methods and attributes:\\n\\t\", dir(a))"
   ]
  },
  {
   "cell_type": "markdown",
   "metadata": {},
   "source": [
    "То есть `range` -- это класс и мы вызываем его конструктор. Объект этого класса является итерируемым, а значит с ним может работать цикл `for`. Чтобы создать итератор из объекта, воспользуемся функцией `iter()`:"
   ]
  },
  {
   "cell_type": "code",
   "execution_count": 53,
   "metadata": {},
   "outputs": [
    {
     "name": "stdout",
     "output_type": "stream",
     "text": [
      "object:\n",
      "\t <range_iterator object at 0x0000012FA12F9CF0>\n",
      "type:\n",
      "\t <class 'range_iterator'>\n",
      "Methods and attributes:\n",
      "\t ['__class__', '__delattr__', '__dir__', '__doc__', '__eq__', '__format__', '__ge__', '__getattribute__', '__gt__', '__hash__', '__init__', '__init_subclass__', '__iter__', '__le__', '__length_hint__', '__lt__', '__ne__', '__new__', '__next__', '__reduce__', '__reduce_ex__', '__repr__', '__setattr__', '__setstate__', '__sizeof__', '__str__', '__subclasshook__']\n"
     ]
    }
   ],
   "source": [
    "iterator = iter(a)\n",
    "\n",
    "print(\"object:\\n\\t\", iterator)\n",
    "print(\"type:\\n\\t\", type(iterator))\n",
    "print(\"Methods and attributes:\\n\\t\", dir(iterator))"
   ]
  },
  {
   "cell_type": "markdown",
   "metadata": {},
   "source": [
    "Итератор -- объект, который знает свое текущее состояние и может вычислить следующее значение. Такой подход не приводит к созданию дополнительных больших объектов в памяти и таким образом делает программу более эффективной. Никакой лишней информации при этом в памяти не хранится.\n",
    "\n",
    "Для того, чтобы перейти к следующему состоянию, используется функция `next()`."
   ]
  },
  {
   "cell_type": "code",
   "execution_count": 18,
   "metadata": {},
   "outputs": [
    {
     "name": "stdout",
     "output_type": "stream",
     "text": [
      "0\n",
      "1\n",
      "2\n",
      "3\n",
      "4\n"
     ]
    }
   ],
   "source": [
    "print(next(iterator))\n",
    "print(next(iterator))\n",
    "print(next(iterator))\n",
    "print(next(iterator))\n",
    "print(next(iterator))"
   ]
  },
  {
   "cell_type": "markdown",
   "metadata": {},
   "source": [
    "Но что же происходит, когда мы пытаемся получить следующий объект, но его не существует?"
   ]
  },
  {
   "cell_type": "code",
   "execution_count": 19,
   "metadata": {},
   "outputs": [
    {
     "ename": "StopIteration",
     "evalue": "",
     "output_type": "error",
     "traceback": [
      "\u001b[1;31m---------------------------------------------------------------------------\u001b[0m",
      "\u001b[1;31mStopIteration\u001b[0m                             Traceback (most recent call last)",
      "\u001b[1;32m<ipython-input-19-4ce711c44abc>\u001b[0m in \u001b[0;36m<module>\u001b[1;34m()\u001b[0m\n\u001b[1;32m----> 1\u001b[1;33m \u001b[0mnext\u001b[0m\u001b[1;33m(\u001b[0m\u001b[0miterator\u001b[0m\u001b[1;33m)\u001b[0m\u001b[1;33m\u001b[0m\u001b[0m\n\u001b[0m",
      "\u001b[1;31mStopIteration\u001b[0m: "
     ]
    }
   ],
   "source": [
    "next(iterator)"
   ]
  },
  {
   "cell_type": "markdown",
   "metadata": {},
   "source": [
    "В таком случае выпадает ошибка `StopIteration`, которая говорит, что следующий объект получить невозможно. Это и является признаком конца итерации. На эту ошибку и ориентируется цикл `for`."
   ]
  },
  {
   "cell_type": "markdown",
   "metadata": {},
   "source": [
    "## Упражнение 4\n",
    "\n",
    "***********\n",
    "Вам дана функция на языке python:\n",
    "\n",
    "```\n",
    "def print_map(function, iterable):\n",
    "    for i in iterable:\n",
    "        print(function(i))\n",
    "```\n",
    "\n",
    "Требуется переписать данную функцию не используя цикл for.\n",
    "****"
   ]
  },
  {
   "cell_type": "markdown",
   "metadata": {},
   "source": [
    "Рассмотрим несколько примеров итерируемых объектов, которые есть в языке python (кроме `range`).\n",
    "\n",
    "**`map(function, iterable)`**\n",
    "\n",
    "В начале рассмотрим функцию `map(func, iterable)`. Эта функция позволяет применить некоторую другую функцию `func` ко всем элементам другого итерируемого объекта `iterable`. **Обратите внимание, что объект-функция передается без круглых скобок**"
   ]
  },
  {
   "cell_type": "code",
   "execution_count": 20,
   "metadata": {},
   "outputs": [
    {
     "name": "stdout",
     "output_type": "stream",
     "text": [
      "1\n",
      "4\n",
      "9\n",
      "16\n",
      "25\n"
     ]
    }
   ],
   "source": [
    "def baz(value):\n",
    "    return value*value\n",
    "\n",
    "lst = [1, 2, 3, 4, 5]\n",
    "\n",
    "for i in map(baz, lst):\n",
    "    print(i)"
   ]
  },
  {
   "cell_type": "markdown",
   "metadata": {},
   "source": [
    "\n",
    "**`zip(iterable[, iterable, ...])`**\n",
    "\n",
    "Функция `zip(iterable[, iterable, ...])` позволяет параллельно итерироваться по большому количеству итерируемых объектов, получая из них соответствующие элементы в виде кортежа. Итератор прекращает свою работу, когда один из переданных объектов закончится."
   ]
  },
  {
   "cell_type": "code",
   "execution_count": 21,
   "metadata": {},
   "outputs": [
    {
     "name": "stdout",
     "output_type": "stream",
     "text": [
      "name:       Alex age:  25 sex: M \n",
      "name:        Bob age:  17 sex: M \n",
      "name:      Alice age:  34 sex: F \n",
      "name:       John age:  24 sex: M \n",
      "name:        Ann age:  42 sex: F \n"
     ]
    }
   ],
   "source": [
    "names = [\"Alex\", \"Bob\", \"Alice\", \"John\", \"Ann\"]\n",
    "age = [25, 17, 34, 24, 42]\n",
    "sex = [\"M\", \"M\", \"F\", \"M\", \"F\"]\n",
    "\n",
    "for values in zip(names, age, sex):\n",
    "    print(\"name: {:>10} age: {:3} sex: {:2}\".format(*values))"
   ]
  },
  {
   "cell_type": "markdown",
   "metadata": {},
   "source": [
    "**`filter(func, iterable)`**\n",
    "\n",
    "Пробегает по итерируемому объекту и возвращает только те элементы, которые удовлетворяют условию, описанному в функции `func`."
   ]
  },
  {
   "cell_type": "code",
   "execution_count": 22,
   "metadata": {},
   "outputs": [
    {
     "name": "stdout",
     "output_type": "stream",
     "text": [
      "0\n",
      "1\n",
      "2\n",
      "3\n",
      "4\n"
     ]
    }
   ],
   "source": [
    "def bar(x):\n",
    "    if abs((34-x*x))**0.5 > x:\n",
    "        return True\n",
    "    return False\n",
    "\n",
    "for i in filter(bar, [0, 1, 2, 3, 4, 5]):\n",
    "    print(i)"
   ]
  },
  {
   "cell_type": "markdown",
   "metadata": {},
   "source": [
    "**`enumerate(iterable, start=0)`**\n",
    "\n",
    "Принимает на вход итерируемый объект и возвращает пары (индекс элемента, элемент). Индексация начинается со start, который по умолчанию равен 0."
   ]
  },
  {
   "cell_type": "code",
   "execution_count": 23,
   "metadata": {},
   "outputs": [
    {
     "name": "stdout",
     "output_type": "stream",
     "text": [
      "01:    Alex\n",
      "02:     Bob\n",
      "03:   Alice\n",
      "04:    John\n",
      "05:     Ann\n"
     ]
    }
   ],
   "source": [
    "names = [\"Alex\", \"Bob\", \"Alice\", \"John\", \"Ann\"]\n",
    "\n",
    "for idx, elem in enumerate(names, 1):\n",
    "    print(\"{:02}: {:>7}\".format(idx, elem))"
   ]
  },
  {
   "cell_type": "markdown",
   "metadata": {},
   "source": [
    "Кажется, что концепция генерации объектов налету, без предварительного выделения памяти под целый массив, является довольно удобной и полезной. Объекты-итераторы могут хранить, например, списки запросов к серверу, логи системы и другую информацию, которую можно обрабатывать последовательно. В таком случае, нам хочется научиться создавать подобные объекты.\n",
    "\n",
    "Для этих целей может использоваться ключевое слово `yield`. Функция, в которой содержится это ключевое слово, становится функцией-генератором. Из такой функции можно создать объект-итератор. При вызове функции `next()` выполнение этой функции дойдет до первого встреченного ключегого слова `yield`, после чего, подобно действию `return`, управление перейдет основной прогамме. Поток управления вернется обратно в функцию при следующем вызове `next()` и продолжит выполнение с того места, на котором остановился ранее. \n",
    "\n",
    "Рассмотрим, каким образом можно написать свою собственную функцию `range()`:"
   ]
  },
  {
   "cell_type": "code",
   "execution_count": 24,
   "metadata": {},
   "outputs": [
    {
     "name": "stdout",
     "output_type": "stream",
     "text": [
      "0 1 2 3 4 \n",
      "1 2 3 4 \n",
      "1 3 5 7 9 \n",
      "10 7 4 1 \n"
     ]
    }
   ],
   "source": [
    "def my_range(a, b=None, step=1):\n",
    "    if b is None:\n",
    "        a, b = 0, a\n",
    "    _current = a\n",
    "    while True:\n",
    "        yield _current\n",
    "        _next = _current + step\n",
    "        if (_next - b)*(_current - b) <= 0:\n",
    "            break\n",
    "        _current = _next\n",
    "            \n",
    "for i in my_range(5):\n",
    "    print(i, end = \" \")\n",
    "print()\n",
    "\n",
    "for i in my_range(1, 5):\n",
    "    print(i, end = \" \")\n",
    "print()\n",
    "\n",
    "for i in my_range(1, 10, 2):\n",
    "    print(i, end = \" \")\n",
    "print()\n",
    "\n",
    "for i in my_range(10, 0, -3):\n",
    "    print(i, end = \" \")\n",
    "print()"
   ]
  },
  {
   "cell_type": "markdown",
   "metadata": {},
   "source": [
    "## Упражнение 5\n",
    "\n",
    "***\n",
    "Напишите генератор, выводящий первые n чисел Фибоначчи.\n",
    "***"
   ]
  },
  {
   "cell_type": "markdown",
   "metadata": {},
   "source": [
    "Кроме генераторов можно создавать целые итерируемые объекты, наподобие `list`, или `dict`, но об этом будет сказано немного позже."
   ]
  },
  {
   "cell_type": "markdown",
   "metadata": {},
   "source": [
    "## Включения (list-, dict- comprehensions)\n",
    "\n",
    "Еще одним очень мощным инструментом языка Python являются так называемые *list comprehensions*. Они позволяют создавать списки из других итерируемых объектов \"на лету\",  при этом сочетают в себе возможности map и filter.\n",
    "\n",
    "Рассмотрим простой пример list comprehension, создающий список из квадратов целых чисел:"
   ]
  },
  {
   "cell_type": "code",
   "execution_count": 25,
   "metadata": {},
   "outputs": [
    {
     "name": "stdout",
     "output_type": "stream",
     "text": [
      "<class 'list'>\n",
      "0 1 4 9 16 25 36 49 64 81\n"
     ]
    }
   ],
   "source": [
    "a = [i*i for i in range(10)]\n",
    "\n",
    "print(type(a))\n",
    "print(*a)"
   ]
  },
  {
   "cell_type": "markdown",
   "metadata": {},
   "source": [
    "Таким образом, list comprehension выглядит как список от выражения, зависящего от элемента из итерируемого объекта. Однако, он может быть гораздо более сложным. Вместо выражения может быть поставлена любая функция от аргумента:"
   ]
  },
  {
   "cell_type": "code",
   "execution_count": 26,
   "metadata": {},
   "outputs": [
    {
     "name": "stdout",
     "output_type": "stream",
     "text": [
      "0.0 0.5833333333333333 -1.3333333333333335 -12.75 -46.66666666666667\n"
     ]
    }
   ],
   "source": [
    "def eggs(x):\n",
    "    return x-x*x/2+x*x*x/3-x*x*x*x/4\n",
    "\n",
    "a = [eggs(i) for i in range(5)]\n",
    "\n",
    "print(*a)"
   ]
  },
  {
   "cell_type": "markdown",
   "metadata": {},
   "source": [
    "Кроме того, на значения итерируемых переменных можно накладывать условия, которые также являются выражением:"
   ]
  },
  {
   "cell_type": "code",
   "execution_count": 27,
   "metadata": {},
   "outputs": [
    {
     "name": "stdout",
     "output_type": "stream",
     "text": [
      "0 4 16 36 64\n"
     ]
    }
   ],
   "source": [
    "a = [i*i for i in range(10) if i%2==0]\n",
    "\n",
    "print(*a)"
   ]
  },
  {
   "cell_type": "markdown",
   "metadata": {},
   "source": [
    "Таким образом, полная форма list comprehension имеет вид:\n",
    "\n",
    "**`[<expression(var)> for <var> in <iterable> if <condition(var)>]`**\n",
    "\n",
    "Однако, и это еще не все. В одном list comphehension мы можем итерироваться сразу по нескольким переменным:"
   ]
  },
  {
   "cell_type": "code",
   "execution_count": 28,
   "metadata": {},
   "outputs": [
    {
     "name": "stdout",
     "output_type": "stream",
     "text": [
      "10 20 21 30 31 32 40 41 42 43\n"
     ]
    }
   ],
   "source": [
    "a = [10*i+j for i in range(5) for j in range(5) if i>j]\n",
    "\n",
    "print(*a)"
   ]
  },
  {
   "cell_type": "markdown",
   "metadata": {},
   "source": [
    "Если необходимо в одном list comphehension использовать несколько циклов, зависящих друг от друга, то стоит помнить, что циклы читаются слева направо:"
   ]
  },
  {
   "cell_type": "code",
   "execution_count": 29,
   "metadata": {},
   "outputs": [
    {
     "name": "stdout",
     "output_type": "stream",
     "text": [
      "i=1, j=0, k=0\n",
      "i=2, j=0, k=0\n",
      "i=2, j=0, k=1\n",
      "i=2, j=1, k=1\n",
      "i=3, j=0, k=0\n",
      "i=3, j=0, k=1\n",
      "i=3, j=0, k=2\n",
      "i=3, j=1, k=1\n",
      "i=3, j=1, k=2\n",
      "i=3, j=2, k=2\n",
      "i=4, j=0, k=0\n",
      "i=4, j=0, k=1\n",
      "i=4, j=0, k=2\n",
      "i=4, j=0, k=3\n",
      "i=4, j=1, k=1\n",
      "i=4, j=1, k=2\n",
      "i=4, j=1, k=3\n",
      "i=4, j=2, k=2\n",
      "i=4, j=2, k=3\n",
      "i=4, j=3, k=3\n"
     ]
    }
   ],
   "source": [
    "a = [\"i={}, j={}, k={}\".format(i,j,k) for i in range(5) for j in range(i) for k in range(j,i)]\n",
    "\n",
    "print(*a, sep=\"\\n\")"
   ]
  },
  {
   "cell_type": "markdown",
   "metadata": {},
   "source": [
    "## Упражнение 6\n",
    "\n",
    "***\n",
    "Написать функцию `flatten(tensor)`, принимающую на вход многомерный список и возвращающую одномерный список всех элементов. Использовать list comprehensions\n",
    "***"
   ]
  },
  {
   "cell_type": "markdown",
   "metadata": {},
   "source": [
    "Двумерные списки нужно создавать при помощи вложенных list comprehensions. При этом  во внутреннем можно использовать переменную, созданную во внешнем.\n",
    "\n",
    "**НИ В КОЕМ СЛУЧАЕ НЕЛЬЗЯ СОЗДАВАТЬ ДВУМЕРНЫЕ СПИСКИ ТАК: `[[0] * n] * n`!**"
   ]
  },
  {
   "cell_type": "code",
   "execution_count": 49,
   "metadata": {},
   "outputs": [
    {
     "name": "stdout",
     "output_type": "stream",
     "text": [
      "00 00 00 00 00 00 00 00 00 00 \n",
      "00 01 02 03 04 05 06 07 08 09 \n",
      "00 02 04 06 08 10 12 14 16 18 \n",
      "00 03 06 09 12 15 18 21 24 27 \n",
      "00 04 08 12 16 20 24 28 32 36 \n",
      "00 05 10 15 20 25 30 35 40 45 \n",
      "00 06 12 18 24 30 36 42 48 54 \n",
      "00 07 14 21 28 35 42 49 56 63 \n",
      "00 08 16 24 32 40 48 56 64 72 \n",
      "00 09 18 27 36 45 54 63 72 81 \n"
     ]
    }
   ],
   "source": [
    "a = [[x*y for y in range(10)] for x in range(10)]\n",
    "\n",
    "for i in a:\n",
    "    print((\"{:02} \"*10).format(*i))"
   ]
  },
  {
   "cell_type": "markdown",
   "metadata": {},
   "source": [
    "## Упражнение 7\n",
    "\n",
    "***\n",
    "Даны два списка a и b. Необходимо для всех положительных элементов i и j из этих списков составить таблицу, в которой сосчитать модуль разности i и j.\n",
    "***"
   ]
  },
  {
   "cell_type": "markdown",
   "metadata": {},
   "source": [
    "Интересной особенностью является то, что при замене квадратных скобок на круглые создается объект-генератор это позволяет пользоваться удобной конструкцией и при этом экономить память.\n",
    "\n",
    "Кроме list comprehensions существуют также dict comprehensions. Они позволяют в той же манере создавать словари. Рассмотрим пример:"
   ]
  },
  {
   "cell_type": "code",
   "execution_count": 31,
   "metadata": {},
   "outputs": [
    {
     "name": "stdout",
     "output_type": "stream",
     "text": [
      "{'Alex': 25, 'Bob': 17, 'Alice': 34, 'John': 24, 'Ann': 42}\n"
     ]
    }
   ],
   "source": [
    "names = [\"Alex\", \"Bob\", \"Alice\", \"John\", \"Ann\"]\n",
    "age = [25, 17, 34, 24, 42]\n",
    "\n",
    "d = {n : a for n,a in zip(names, age)}\n",
    "\n",
    "print(d)"
   ]
  },
  {
   "cell_type": "markdown",
   "metadata": {},
   "source": [
    "## Безымянные функции (lambdas)\n",
    "\n",
    "Некоторые из используемых функций, например `map` и `filter` требуют передачи в качестве одного из аргументов функции. Очень часто такие функции являются простыми однострочниками и не используются в дальнейшем в программе. Однако при этом мы вынуждены выделять место, объявлять функцию и вообще писать много лишнего кода. Для таких случаев можно использовать безымянные функции -- `lambda`. Такие функции создаются \"на лету\", а после использования удаляются из памяти. При этом, lambda-функции являются объектами и их можно сохранять в переменные и использовать в дальнейшем как обычные функции.\n",
    "\n",
    "Приведем пример:"
   ]
  },
  {
   "cell_type": "code",
   "execution_count": 32,
   "metadata": {},
   "outputs": [
    {
     "name": "stdout",
     "output_type": "stream",
     "text": [
      "1156\n",
      "1156\n"
     ]
    }
   ],
   "source": [
    "def foo(x):\n",
    "    return x*x\n",
    "\n",
    "bar = lambda x: x*x\n",
    "\n",
    "print(foo(34))\n",
    "print(bar(34))"
   ]
  },
  {
   "cell_type": "markdown",
   "metadata": {},
   "source": [
    "Используем lambda-функцию в качестве аргумента `map`:\n"
   ]
  },
  {
   "cell_type": "code",
   "execution_count": 33,
   "metadata": {},
   "outputs": [
    {
     "name": "stdout",
     "output_type": "stream",
     "text": [
      "0\n",
      "1\n",
      "4\n",
      "9\n",
      "16\n"
     ]
    }
   ],
   "source": [
    "for i in map(lambda x: x*x, range(5)):\n",
    "    print(i)"
   ]
  },
  {
   "cell_type": "markdown",
   "metadata": {},
   "source": [
    "lambda-функция не может содержать присваивания или нескольких операций. Все операции в lambda-функции должны быть представлены в виде пайплайна, когда каждая следующая функция вызывается от результата предыдущей, или выражения. Внутри lambda-функций могут вызываться другие функции (и другие lambda-функции тоже).\n",
    "\n",
    "Объявление lambda-функции создает в памяти callable-объект, который можно вызвать прямо на месте:"
   ]
  },
  {
   "cell_type": "code",
   "execution_count": 34,
   "metadata": {},
   "outputs": [
    {
     "name": "stdout",
     "output_type": "stream",
     "text": [
      "7\n",
      "1\n"
     ]
    }
   ],
   "source": [
    "print( ( lambda x: int(int(input()) > x) ) (5) )"
   ]
  },
  {
   "cell_type": "markdown",
   "metadata": {},
   "source": [
    "lambda-функция может принимать несколько аргументов, a может и не иметь аргументов вовсе."
   ]
  },
  {
   "cell_type": "code",
   "execution_count": 48,
   "metadata": {},
   "outputs": [
    {
     "name": "stdout",
     "output_type": "stream",
     "text": [
      "Alex is 25 years old\n",
      "Bob is 17 years old\n",
      "Alice is 34 years old\n",
      "John is 24 years old\n",
      "Ann is 42 years old\n",
      "6\n",
      "6\n"
     ]
    }
   ],
   "source": [
    "names = [\"Alex\", \"Bob\", \"Alice\", \"John\", \"Ann\"]\n",
    "age = [25, 17, 34, 24, 42]\n",
    "\n",
    "for i in map(lambda x, y: \"{} is {} years old\".format(x,y), names, age):\n",
    "    print(i)\n",
    "    \n",
    "print( (lambda: input()) () )"
   ]
  },
  {
   "cell_type": "markdown",
   "metadata": {},
   "source": [
    "Самые отчаянные могут попытаться с использованием lambda-функций реализовывать даже очень сложные программы. Но тогда вам придется освоить рекурсию при использовании lambda-функций, а это уже не совсем тривиальная задача. Циклов то не будет. Ниже приведен пример функции, вычисляющей факториал числа."
   ]
  },
  {
   "cell_type": "code",
   "execution_count": 45,
   "metadata": {},
   "outputs": [],
   "source": [
    "fact = lambda x: (\n",
    "                lambda f, *a: f(f, *a)\n",
    "                )(\n",
    "                        lambda fun, n: \n",
    "                                1 if n<=1 else n * fun(fun, n-1),\n",
    "                 x)\n",
    "\n",
    "fact(3)"
   ]
  },
  {
   "cell_type": "markdown",
   "metadata": {},
   "source": [
    "## Упражнение 8 * (для храбрых)\n",
    "\n",
    "***\n",
    "Реализуйте вычисление n-го числа фибоначчи используя только lambda-функции\n",
    "***"
   ]
  },
  {
   "cell_type": "code",
   "execution_count": null,
   "metadata": {},
   "outputs": [],
   "source": []
  }
 ],
 "metadata": {
  "kernelspec": {
   "display_name": "Python 3",
   "language": "python",
   "name": "python3"
  },
  "language_info": {
   "codemirror_mode": {
    "name": "ipython",
    "version": 3
   },
   "file_extension": ".py",
   "mimetype": "text/x-python",
   "name": "python",
   "nbconvert_exporter": "python",
   "pygments_lexer": "ipython3",
   "version": "3.6.5"
  }
 },
 "nbformat": 4,
 "nbformat_minor": 2
}
