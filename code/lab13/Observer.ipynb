{
 "cells": [
  {
   "cell_type": "code",
   "execution_count": 1,
   "metadata": {},
   "outputs": [],
   "source": [
    "from abc import ABC, abstractmethod"
   ]
  },
  {
   "cell_type": "markdown",
   "metadata": {},
   "source": [
    "# Абстрактные классы, описывающие наблюдателя и наблюдаемый объект"
   ]
  },
  {
   "cell_type": "code",
   "execution_count": 9,
   "metadata": {},
   "outputs": [],
   "source": [
    "class Observer(ABC):\n",
    "    \"\"\"\n",
    "    Абстрактный наблюдатель\n",
    "    \"\"\"\n",
    "\n",
    "    @abstractmethod\n",
    "    def update(self, message):\n",
    "        \"\"\"\n",
    "        Получение нового сообщения\n",
    "        \"\"\"\n",
    "        pass\n",
    "\n",
    "\n",
    "class Observable(ABC):\n",
    "    \"\"\"\n",
    "    Абстрактный наблюдаемый\n",
    "    \"\"\"\n",
    "\n",
    "    def __init__(self):\n",
    "        \"\"\"\n",
    "        Constructor.\n",
    "        \"\"\"\n",
    "        self.observers = []     # инициализация списка наблюдателей\n",
    "\n",
    "    def register(self, observer):\n",
    "        \"\"\"\n",
    "        Регистрация нового наблюдателя на подписку\n",
    "        \"\"\"\n",
    "        self.observers.append(observer)\n",
    "\n",
    "    def notify_observers(self, message):\n",
    "        \"\"\"\n",
    "        Передача сообщения всем наблюдателям, подписанным на события\n",
    "        данного объекта наблюдаемого класса\n",
    "        \"\"\"\n",
    "        for observer in self.observers:\n",
    "            observer.update(message)"
   ]
  },
  {
   "cell_type": "markdown",
   "metadata": {},
   "source": [
    "# Реализация наблюдателя и наблюдаемого объекта"
   ]
  },
  {
   "cell_type": "code",
   "execution_count": 7,
   "metadata": {},
   "outputs": [],
   "source": [
    "class Newspaper(Observable):\n",
    "    \"\"\"\n",
    "    Газета, за новостями в которой следят тысячи людей\n",
    "    \"\"\"\n",
    "\n",
    "    def add_news(self, news):\n",
    "        \"\"\"\n",
    "        Выпуск очередной новости\n",
    "        \"\"\"\n",
    "        self.notify_observers(news)\n",
    "\n",
    "\n",
    "class Citizen(Observer):\n",
    "    \"\"\"\n",
    "    Обычный гражданин, который любит читнуть с утра любимую газетку\n",
    "    \"\"\"\n",
    "\n",
    "    def __init__(self, name):\n",
    "        \"\"\"\n",
    "        Constructor.\n",
    "\n",
    "        :param name: имя гражданина, чтоб не спутать его с кем-то другим\n",
    "        \"\"\"\n",
    "        self.name = name\n",
    "\n",
    "    def update(self, message):\n",
    "        \"\"\"\n",
    "        Получение очередной новости\n",
    "        \"\"\"\n",
    "        print('{} узнал следующее: {}'.format(self.name, message))"
   ]
  },
  {
   "cell_type": "code",
   "execution_count": 8,
   "metadata": {},
   "outputs": [
    {
     "name": "stdout",
     "output_type": "stream",
     "text": [
      "Иван узнал следующее: Наблюдатель - поведенческий шаблон проектирования\n",
      "Василий узнал следующее: Наблюдатель - поведенческий шаблон проектирования\n"
     ]
    }
   ],
   "source": [
    "newspaper = Newspaper()                 # создаем небольшую газету\n",
    "newspaper.register(Citizen('Иван'))     # добавляем двух человек, которые\n",
    "newspaper.register(Citizen('Василий'))  # ... ее регулярно выписывают\n",
    "\n",
    "# ... и вбрасываем очередную газетную утку\n",
    "newspaper.add_news('Наблюдатель - поведенческий шаблон проектирования')"
   ]
  }
 ],
 "metadata": {
  "kernelspec": {
   "display_name": "Python 3",
   "language": "python",
   "name": "python3"
  },
  "language_info": {
   "codemirror_mode": {
    "name": "ipython",
    "version": 3
   },
   "file_extension": ".py",
   "mimetype": "text/x-python",
   "name": "python",
   "nbconvert_exporter": "python",
   "pygments_lexer": "ipython3",
   "version": "3.6.4"
  }
 },
 "nbformat": 4,
 "nbformat_minor": 2
}
