{
 "cells": [
  {
   "cell_type": "code",
   "execution_count": 36,
   "metadata": {},
   "outputs": [],
   "source": [
    "from abc import ABC, abstractmethod"
   ]
  },
  {
   "cell_type": "markdown",
   "metadata": {},
   "source": [
    "Базоый класс человека.\n",
    "Он содержит информацию о тепле и одежде."
   ]
  },
  {
   "cell_type": "code",
   "execution_count": 37,
   "metadata": {},
   "outputs": [],
   "source": [
    "class Human:\n",
    "    def __init__(self):\n",
    "        self.clothes = []\n",
    "        self.warm = 0\n",
    "        \n",
    "    def get_warm(self):\n",
    "        return self.warm\n",
    "    \n",
    "    def get_clothes(self):\n",
    "        return self.clothes.copy()"
   ]
  },
  {
   "cell_type": "markdown",
   "metadata": {},
   "source": [
    "Добавим декораторы одежды.\n",
    "\n",
    "Для этого надо создать абстрактный декоратор, который будет выступать в качестве \"шаблона\" для остальных.\n",
    "\n",
    "Далее, будем создавать классы-одежду."
   ]
  },
  {
   "cell_type": "code",
   "execution_count": 38,
   "metadata": {},
   "outputs": [],
   "source": [
    "class AbstractClothe(Human, ABC):\n",
    "    def __init__(self, base):\n",
    "        self.base = base\n",
    "    \n",
    "    @abstractmethod\n",
    "    def get_warm(self):\n",
    "        pass\n",
    "    \n",
    "    @abstractmethod\n",
    "    def get_clothes(self):\n",
    "        pass\n",
    "    \n",
    "class Jacket(AbstractClothe):\n",
    "    def __init__(self, base):\n",
    "        self.base = base\n",
    "    \n",
    "    def get_warm(self):\n",
    "        return self.base.get_warm() + 20\n",
    "    \n",
    "    def get_clothes(self):\n",
    "        return self.base.get_clothes() + ['jacket']\n",
    "\n",
    "    \n",
    "class Boots(AbstractClothe):\n",
    "    def __init__(self, base):\n",
    "        self.base = base\n",
    "    \n",
    "    def get_warm(self):\n",
    "        return self.base.get_warm() + 10\n",
    "    \n",
    "    def get_clothes(self):\n",
    "        return self.base.get_clothes() + ['boots']\n",
    "    \n",
    "class Pants(AbstractClothe):\n",
    "    def __init__(self, base):\n",
    "        self.base = base\n",
    "    \n",
    "    def get_warm(self):\n",
    "        return self.base.get_warm() + 10\n",
    "    \n",
    "    def get_clothes(self):\n",
    "        return self.base.get_clothes() + ['pants']"
   ]
  },
  {
   "cell_type": "code",
   "execution_count": 39,
   "metadata": {},
   "outputs": [],
   "source": [
    "student = Human()"
   ]
  },
  {
   "cell_type": "markdown",
   "metadata": {},
   "source": [
    "Получаем возможность использовать любую комбинацию одежды."
   ]
  },
  {
   "cell_type": "code",
   "execution_count": 40,
   "metadata": {},
   "outputs": [
    {
     "name": "stdout",
     "output_type": "stream",
     "text": [
      "40\n",
      "jacket pants boots\n"
     ]
    }
   ],
   "source": [
    "winter = Boots(Pants(Jacket(student)))\n",
    "print(winter.get_warm())\n",
    "print(*winter.get_clothes())"
   ]
  },
  {
   "cell_type": "code",
   "execution_count": 41,
   "metadata": {},
   "outputs": [
    {
     "name": "stdout",
     "output_type": "stream",
     "text": [
      "10\n",
      "pants\n"
     ]
    }
   ],
   "source": [
    "summer = Pants(student)\n",
    "print(summer.get_warm())\n",
    "print(*summer.get_clothes())"
   ]
  }
 ],
 "metadata": {
  "kernelspec": {
   "display_name": "Python 3",
   "language": "python",
   "name": "python3"
  },
  "language_info": {
   "codemirror_mode": {
    "name": "ipython",
    "version": 3
   },
   "file_extension": ".py",
   "mimetype": "text/x-python",
   "name": "python",
   "nbconvert_exporter": "python",
   "pygments_lexer": "ipython3",
   "version": "3.6.4"
  }
 },
 "nbformat": 4,
 "nbformat_minor": 2
}
