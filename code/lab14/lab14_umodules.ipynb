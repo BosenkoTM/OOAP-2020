{
 "cells": [
  {
   "cell_type": "markdown",
   "metadata": {},
   "source": [
    "# Collections\n",
    "\n",
    "Модуль содержит расширение стандартных built-in контейнеров питона, таких как dict, list, set, and tuple\n",
    "\n",
    "Зачастую ими пользоваться удобней, чем стандартными"
   ]
  },
  {
   "cell_type": "markdown",
   "metadata": {},
   "source": [
    "## defaultdict"
   ]
  },
  {
   "cell_type": "code",
   "execution_count": null,
   "metadata": {
    "collapsed": true
   },
   "outputs": [],
   "source": [
    "from collections import defaultdict\n",
    "# Отнаследован от dict, а значит, имеет те же методы"
   ]
  },
  {
   "cell_type": "markdown",
   "metadata": {},
   "source": [
    "К примеру, нам нужно посчитать частоту чисел в массиве. Используя словарь, это можно сделать так:"
   ]
  },
  {
   "cell_type": "code",
   "execution_count": null,
   "metadata": {
    "collapsed": true
   },
   "outputs": [],
   "source": [
    "elems = [2, 2, 4, 2, 3]\n",
    "build_in_dict = dict()\n",
    "\n",
    "for elem in elems:\n",
    "    if elem in build_in_dict:\n",
    "        build_in_dict[elem] += 1\n",
    "    else:\n",
    "        build_in_dict[elem] = 1\n",
    "\n",
    "print(build_in_dict)"
   ]
  },
  {
   "cell_type": "markdown",
   "metadata": {},
   "source": [
    "Выглядит неаккуратно - 4 строчки занимают очень простую операцию - добавление элемента. Перепишем, используя defaultdict:"
   ]
  },
  {
   "cell_type": "code",
   "execution_count": null,
   "metadata": {
    "collapsed": true
   },
   "outputs": [],
   "source": [
    "dct = defaultdict(int)\n",
    "\n",
    "for elem in elems:\n",
    "    dct[elem] += 1\n",
    "\n",
    "print(dct)"
   ]
  },
  {
   "cell_type": "markdown",
   "metadata": {},
   "source": [
    "Красиво и просто"
   ]
  },
  {
   "cell_type": "markdown",
   "metadata": {},
   "source": [
    "defaultdict принимает аргументом фабрику для первого элемента в словаре. В представленном случае - int. То есть, в строчке\n",
    "```\n",
    "dct[elem] += 1\n",
    "```\n",
    "происходит что-то вроде:\n",
    "```\n",
    "dct[elem] = (int() if elem not in dct else dct[elem]) + 1\n",
    "```"
   ]
  },
  {
   "cell_type": "code",
   "execution_count": null,
   "metadata": {
    "collapsed": true
   },
   "outputs": [],
   "source": [
    "# По умолчанию, аргумент - None\n",
    "dct = defaultdict()\n",
    "# И при обращении к несуществующему элементу мы получим KeyError:\n",
    "dct[0]"
   ]
  },
  {
   "cell_type": "markdown",
   "metadata": {},
   "source": [
    "Конечно, можно передать вместо int - list, set или даже свою фабрику"
   ]
  },
  {
   "cell_type": "markdown",
   "metadata": {},
   "source": [
    "### Упражнение 1\n",
    "\n",
    "Написать с помощью defaultdict функцию для подсчета количества различных labels для каждого цвета"
   ]
  },
  {
   "cell_type": "code",
   "execution_count": null,
   "metadata": {
    "collapsed": true
   },
   "outputs": [],
   "source": [
    "def count_colors_labels(colors_labels):\n",
    "    raise NotImplementedError()"
   ]
  },
  {
   "cell_type": "code",
   "execution_count": null,
   "metadata": {
    "collapsed": true
   },
   "outputs": [],
   "source": [
    "# format: list of tuples: (color, label)\n",
    "elems = [('yellow', 3), ('green', 4), ('green', 4), ('red', 2), ('green', 7), ('yellow', 4)]\n",
    "\n",
    "# check\n",
    "true_answer = {'yellow': 2, 'green': 2, 'red': 1}\n",
    "\n",
    "assert count_colors_labels(elems) == true_answer"
   ]
  },
  {
   "cell_type": "markdown",
   "metadata": {},
   "source": [
    "Можем передать функцию:"
   ]
  },
  {
   "cell_type": "code",
   "execution_count": null,
   "metadata": {
    "collapsed": true
   },
   "outputs": [],
   "source": [
    "import random\n",
    "\n",
    "def factory():\n",
    "    return random.randint(0, 100)\n",
    "\n",
    "dct = defaultdict(factory)\n",
    "\n",
    "print(dct[0], dct[1], dct[2], dct[0])\n",
    "print(dct)"
   ]
  },
  {
   "cell_type": "markdown",
   "metadata": {},
   "source": [
    "Не нужно забывать следующую особенность - объекты записываются в defaultdict, как только мы к ним обращаемся в первый раз"
   ]
  },
  {
   "cell_type": "markdown",
   "metadata": {},
   "source": [
    "### Упражнение 2\n",
    "\n",
    "Написать класс, с помощью которого можно создать словарь, который по умолчанию будет выдавать количество уже заведенных элементов до него"
   ]
  },
  {
   "cell_type": "code",
   "execution_count": null,
   "metadata": {
    "collapsed": true
   },
   "outputs": [],
   "source": [
    "class StrangeClass(object):\n",
    "    pass"
   ]
  },
  {
   "cell_type": "code",
   "execution_count": null,
   "metadata": {
    "collapsed": true
   },
   "outputs": [],
   "source": [
    "dct = defaultdict(StrangeClass())\n",
    "\n",
    "elems = [9, 3, 1, 3, 4, 10]\n",
    "\n",
    "assert [dct[elem] for elem in elems] == [0, 1, 2, 1, 3, 4]"
   ]
  },
  {
   "cell_type": "markdown",
   "metadata": {},
   "source": [
    "## deque (double-ended queue)"
   ]
  },
  {
   "cell_type": "code",
   "execution_count": null,
   "metadata": {
    "collapsed": true
   },
   "outputs": [],
   "source": [
    "from collections import deque"
   ]
  },
  {
   "cell_type": "markdown",
   "metadata": {},
   "source": [
    "Deques поддерживают **thread-safe**, **memory efficient** добавление и извлечение элементов с любого края за амортизированный О(1)\n",
    "\n",
    "Его часто (!) используют как примитив синхронизации потоков из-за простоты и хорошей читаемости кода"
   ]
  },
  {
   "cell_type": "markdown",
   "metadata": {},
   "source": [
    "Почему использовать deque вместо list?"
   ]
  },
  {
   "cell_type": "code",
   "execution_count": null,
   "metadata": {
    "collapsed": true
   },
   "outputs": [],
   "source": [
    "elems = [1 for _ in range(20000000)]\n",
    "delems = deque(elems)\n",
    "\n",
    "%timeit (elems.pop(0), elems.append(1))\n",
    "\n",
    "%timeit (delems.popleft(), delems.append(1))"
   ]
  },
  {
   "cell_type": "markdown",
   "metadata": {},
   "source": [
    "Конструктор принимает итерируемый объект и максимальное количество элементов (по умолчанию None). При достижении границы, старые элементы будут удаляться с противоположного конца"
   ]
  },
  {
   "cell_type": "code",
   "execution_count": null,
   "metadata": {
    "collapsed": true
   },
   "outputs": [],
   "source": [
    "d = deque(maxlen=2)\n",
    "print(d)\n",
    "d.extend([1, 2, 3, 4])\n",
    "print(d)"
   ]
  },
  {
   "cell_type": "markdown",
   "metadata": {},
   "source": [
    "Несколько полезных методов:"
   ]
  },
  {
   "cell_type": "code",
   "execution_count": null,
   "metadata": {
    "collapsed": true
   },
   "outputs": [],
   "source": [
    "dq = deque([1,2,3,4,1])\n",
    "print('elem count: {}'.format(dq.count(1)))\n",
    "\n",
    "dq.extend([4, 5, 6])\n",
    "print(dq)\n",
    "\n",
    "dq.rotate(-1)\n",
    "print(dq)"
   ]
  },
  {
   "cell_type": "markdown",
   "metadata": {},
   "source": [
    "### Упражнение 3\n",
    "\n",
    "С помощью deque написать функцию, выдающую последние n строк из файла"
   ]
  },
  {
   "cell_type": "code",
   "execution_count": null,
   "metadata": {
    "collapsed": true
   },
   "outputs": [],
   "source": [
    "def tail(filename, n=10):\n",
    "    raise NotImplementedError()"
   ]
  },
  {
   "cell_type": "code",
   "execution_count": null,
   "metadata": {
    "collapsed": true
   },
   "outputs": [],
   "source": [
    "# check with your file\n",
    "\n",
    "filename = ''\n",
    "last_lines = ''\n",
    "\n",
    "n = 10\n",
    "# assert tail(filename, n) == last_lines"
   ]
  },
  {
   "cell_type": "markdown",
   "metadata": {},
   "source": [
    "### Упражнение 4*\n",
    "\n",
    "Реализовать свой deque"
   ]
  },
  {
   "cell_type": "markdown",
   "metadata": {},
   "source": [
    "## Counter\n",
    "\n",
    "Отнаследован от dict. Как следует из названия, хорош, если требуется что-то посчитать (вообще-то, только **hashable** объекты)"
   ]
  },
  {
   "cell_type": "code",
   "execution_count": null,
   "metadata": {
    "collapsed": true
   },
   "outputs": [],
   "source": [
    "from collections import Counter"
   ]
  },
  {
   "cell_type": "code",
   "execution_count": null,
   "metadata": {
    "collapsed": true
   },
   "outputs": [],
   "source": [
    "c = Counter()\n",
    "print(c)\n",
    "\n",
    "c = Counter('gallahad')\n",
    "print(c)\n",
    "\n",
    "c = Counter({'red': 4, 'blue': 2})\n",
    "print(c)\n",
    "\n",
    "c = Counter(cats=4, dogs=8)\n",
    "print(c)"
   ]
  },
  {
   "cell_type": "markdown",
   "metadata": {},
   "source": [
    "Можем найти N наиболее встречаемых слов в тексте в 1 строчку!"
   ]
  },
  {
   "cell_type": "code",
   "execution_count": null,
   "metadata": {
    "collapsed": true
   },
   "outputs": [],
   "source": [
    "text = '''The rose is red the violet is blue The honey is sweet and so are you'''\n",
    "\n",
    "Counter(text.split()).most_common(3)"
   ]
  },
  {
   "cell_type": "markdown",
   "metadata": {},
   "source": [
    "### Упражнение 5\n",
    "\n",
    "Написать функцию, выводящую наименее встречаемые элементы с помощью Counter"
   ]
  },
  {
   "cell_type": "code",
   "execution_count": null,
   "metadata": {
    "collapsed": true
   },
   "outputs": [],
   "source": [
    "def get_least_common(iterable_obj, n=3):\n",
    "    raise NotImplementedError()"
   ]
  },
  {
   "cell_type": "code",
   "execution_count": null,
   "metadata": {
    "collapsed": true
   },
   "outputs": [],
   "source": [
    "elems = [1,4,3,1,1,8,9,2,8,8,9,9]\n",
    "assert get_least_common(elems) == [2, 3, 4]"
   ]
  },
  {
   "cell_type": "markdown",
   "metadata": {},
   "source": [
    "## OrderedDict\n",
    "\n",
    "Как следует из названия, словарь, но уже с порядком элементов"
   ]
  },
  {
   "cell_type": "code",
   "execution_count": null,
   "metadata": {
    "collapsed": true
   },
   "outputs": [],
   "source": [
    "from collections import OrderedDict"
   ]
  },
  {
   "cell_type": "code",
   "execution_count": null,
   "metadata": {
    "collapsed": true
   },
   "outputs": [],
   "source": [
    "data = [(1, 'a'), (3, 'c'), (2, 'b')]\n",
    "\n",
    "print(dict(data))\n",
    "print(OrderedDict(data))"
   ]
  },
  {
   "cell_type": "markdown",
   "metadata": {},
   "source": [
    "При удалении элементов, порядок сохраняется, но новый элемент добавляется в конец без учета порядка"
   ]
  },
  {
   "cell_type": "markdown",
   "metadata": {},
   "source": [
    "### Упражнение 6\n",
    "\n",
    "Написать класс LastUpdatedOrderedDict. Модификация относительно OrderedDict в том, чтобы при добавлении уже существующих элементов, перезаписывать их места в словаре"
   ]
  },
  {
   "cell_type": "code",
   "execution_count": null,
   "metadata": {
    "collapsed": true
   },
   "outputs": [],
   "source": [
    "class LastUpdatedOrderedDict(OrderedDict):\n",
    "    'Store items in the order the keys were last added'"
   ]
  },
  {
   "cell_type": "code",
   "execution_count": null,
   "metadata": {
    "collapsed": true
   },
   "outputs": [],
   "source": [
    "lud = LastUpdatedOrderedDict()\n",
    "\n",
    "elems = ['a', 'b', 'c']\n",
    "\n",
    "for elem in elems:\n",
    "    lud[elem] = 1\n",
    "\n",
    "assert list(lud) == elems\n",
    "\n",
    "lud['a'] = 1\n",
    "\n",
    "assert list(lud) == ['b', 'c', 'a']"
   ]
  },
  {
   "cell_type": "markdown",
   "metadata": {},
   "source": [
    "### namedtuple\n",
    "\n",
    "Как следует из названия, именованные tuple, возможность организовать доступ к элементам через field_names в конструкторе. **namedtuple** возвращает класс, поэтому первым аргументом должны передать его имя. Лучше всего как он работает можно понять на примерах:"
   ]
  },
  {
   "cell_type": "code",
   "execution_count": null,
   "metadata": {
    "collapsed": true
   },
   "outputs": [],
   "source": [
    "from collections import namedtuple"
   ]
  },
  {
   "cell_type": "code",
   "execution_count": null,
   "metadata": {
    "collapsed": true
   },
   "outputs": [],
   "source": [
    "Point = namedtuple('Point', ['x', 'y'])\n",
    "\n",
    "p = Point(1, 2)\n",
    "print(p)"
   ]
  },
  {
   "cell_type": "code",
   "execution_count": null,
   "metadata": {
    "collapsed": true
   },
   "outputs": [],
   "source": [
    "t = [11, 22]\n",
    "Point._make(t)"
   ]
  },
  {
   "cell_type": "markdown",
   "metadata": {},
   "source": [
    "Может быть полезно при чтении csv файлов (конструирование объектов через соответствие полей и значений:"
   ]
  },
  {
   "cell_type": "code",
   "execution_count": null,
   "metadata": {
    "collapsed": true
   },
   "outputs": [],
   "source": [
    "EmployeeRecord = namedtuple('EmployeeRecord', 'name, age')\n",
    "\n",
    "# imagine, that rows is returned from csv.reader(...):\n",
    "rows = [\n",
    "    ['Name1', 46],\n",
    "    ['Name2', 24]\n",
    "]\n",
    "\n",
    "for emp in map(EmployeeRecord._make, rows):\n",
    "    print(emp.name, emp.age)"
   ]
  },
  {
   "cell_type": "markdown",
   "metadata": {},
   "source": [
    "### Упражнение 7\n",
    "\n",
    "Полностью написать функцию, считывающую работников из csv файла. Использовать модуль csv"
   ]
  },
  {
   "cell_type": "code",
   "execution_count": null,
   "metadata": {
    "collapsed": true
   },
   "outputs": [],
   "source": [
    "def read_employees(filename):\n",
    "    raise NotImplementedError()"
   ]
  },
  {
   "cell_type": "markdown",
   "metadata": {},
   "source": [
    "### Usefull functions from collections"
   ]
  },
  {
   "cell_type": "markdown",
   "metadata": {},
   "source": [
    "Вместе с контейнерами, в collections есть также несколько полезных функций. К примеру, мы можем узнать, является ли объект итерируемым или хешируемым:"
   ]
  },
  {
   "cell_type": "code",
   "execution_count": null,
   "metadata": {
    "collapsed": true
   },
   "outputs": [],
   "source": [
    "import collections"
   ]
  },
  {
   "cell_type": "code",
   "execution_count": null,
   "metadata": {
    "collapsed": true
   },
   "outputs": [],
   "source": [
    "objs = [set([1,2,3]), (1,)]\n",
    "\n",
    "for obj in objs:\n",
    "    if isinstance(obj, collections.Hashable):\n",
    "        print('object of type {} is hashable'.format(type(a)))\n",
    "    else:\n",
    "        print('object of type {} is not hashable'.format(type(a)))"
   ]
  },
  {
   "cell_type": "markdown",
   "metadata": {
    "collapsed": true
   },
   "source": [
    "Узнать больше:\n",
    "\n",
    "https://docs.python.org/3/library/collections.html"
   ]
  },
  {
   "cell_type": "code",
   "execution_count": null,
   "metadata": {
    "collapsed": true
   },
   "outputs": [],
   "source": []
  },
  {
   "cell_type": "markdown",
   "metadata": {},
   "source": [
    "# itertools\n",
    "\n",
    "itertools - Модуль для \"эффективного итерирования\"\n",
    "\n",
    "Лучше всего понять как с ним работать - выполнить простые упражнения"
   ]
  },
  {
   "cell_type": "code",
   "execution_count": null,
   "metadata": {
    "collapsed": true
   },
   "outputs": [],
   "source": [
    "import itertools"
   ]
  },
  {
   "cell_type": "markdown",
   "metadata": {},
   "source": [
    "### Упражнение №1\n",
    "\n",
    "Написать функцию, принимающую 2 списка и возвращающую декартово произведение (использовать itertools.product)"
   ]
  },
  {
   "cell_type": "code",
   "execution_count": null,
   "metadata": {
    "collapsed": true
   },
   "outputs": [],
   "source": [
    "def get_cartesian_product(a, b):\n",
    "    raise RuntimeError(\"Not implemented\")\n",
    "\n",
    "get_cartesian_product([1, 2], [3, 4]) == [(1, 3), (1, 4), (2, 3), (2, 4)]"
   ]
  },
  {
   "cell_type": "markdown",
   "metadata": {},
   "source": [
    "### Упражнение №2\n",
    "\n",
    "Написать функцию, принимающую строку s и число n и возвращающую всевозможные перестановки из n символов в s строке в лексикографическом(!) порядке (использовать itertools.permutations)"
   ]
  },
  {
   "cell_type": "code",
   "execution_count": null,
   "metadata": {
    "collapsed": true
   },
   "outputs": [],
   "source": [
    "def get_permutations(s, n):\n",
    "    raise RuntimeError(\"Not implemented\")\n",
    "\n",
    "get_permutations(\"cat\", 2) == [\"ac\", \"at\", \"ca\", \"ct\", \"ta\", \"tc\"]"
   ]
  },
  {
   "cell_type": "markdown",
   "metadata": {},
   "source": [
    "### Упражнение №3\n",
    "\n",
    "\n",
    "Реализовать функцию get_combinations. Должна принимать строку s и число k и возвращать все возможные комбинации из символов в строке s с длинами <= k (использовать itertools.combinations)"
   ]
  },
  {
   "cell_type": "code",
   "execution_count": null,
   "metadata": {
    "collapsed": true
   },
   "outputs": [],
   "source": [
    "def get_combinations(s, n):\n",
    "    raise RuntimeError(\"Not implemented\")\n",
    "\n",
    "get_combinations(\"cat\", 2) == [\"a\", \"c\", \"t\", \"ac\", \"at\", \"ct\"]"
   ]
  },
  {
   "cell_type": "markdown",
   "metadata": {},
   "source": [
    "### Упражнение №4\n",
    "\n",
    "\n",
    "Функция должна принимать строку s и число k и возвращать все возможные комбинации из символов в строке s с длинами = k с повторениями (использовать itertools.combinations_with_replacement)"
   ]
  },
  {
   "cell_type": "code",
   "execution_count": null,
   "metadata": {
    "collapsed": true
   },
   "outputs": [],
   "source": [
    "def get_combinations_with_r(s, n):\n",
    "    raise RuntimeError(\"Not implemented\")\n",
    "\n",
    "get_combinations_with_r(\"cat\", 2) == [\"aa\", \"ac\", \"at\", \"cc\", \"ct\", \"tt\"]"
   ]
  },
  {
   "cell_type": "markdown",
   "metadata": {},
   "source": [
    "### Упражнение №5\n",
    "\n",
    "Написать функцию, которая подсчитывает количество подряд идующих символов в строке (использовать itertools.groupby)"
   ]
  },
  {
   "cell_type": "code",
   "execution_count": null,
   "metadata": {
    "collapsed": true
   },
   "outputs": [],
   "source": [
    "def compress_string(s):\n",
    "    raise RuntimeError(\"Not implemented\")\n",
    "\n",
    "compress_string('1222311') == [(1, 1), (3, 2), (1, 3), (2, 1)]"
   ]
  },
  {
   "cell_type": "markdown",
   "metadata": {},
   "source": [
    "### Упражнение №6\n",
    "\n",
    "В функцию передается список списков. Нужно вернуть максимум, который достигает выражение $(a_1^2 + a_2^2 + ... + a_n^2) \\% m $. Где $a_i$ --- некоторый элемент из $i$-ого списка (использовать функцию из itertools)"
   ]
  },
  {
   "cell_type": "code",
   "execution_count": null,
   "metadata": {
    "collapsed": true
   },
   "outputs": [],
   "source": [
    "def maximize(lists, m):\n",
    "    raise RuntimeError(\"Not implemented\")\n",
    "\n",
    "lists = [\n",
    "    [5, 4],\n",
    "    [7, 8, 9],\n",
    "    [5, 7, 8, 9, 10]\n",
    "]\n",
    "maximize(lists, m=1000) == 206"
   ]
  },
  {
   "cell_type": "markdown",
   "metadata": {},
   "source": [
    "В примере = 206, так как это максимум от суммы $(a_1^2 + a_2^2 + a_3^2) \\% 1000$\n",
    "\n",
    "$a_1 = 5, a_2 = 9, a_3 = 10$"
   ]
  },
  {
   "cell_type": "code",
   "execution_count": null,
   "metadata": {
    "collapsed": true
   },
   "outputs": [],
   "source": []
  },
  {
   "cell_type": "markdown",
   "metadata": {},
   "source": [
    "# functools\n",
    "\n",
    "Модуль **functools** используется для высокоуровневых функций, функций, которые ведут себя как функции или возвращают другие функции"
   ]
  },
  {
   "cell_type": "code",
   "execution_count": null,
   "metadata": {
    "collapsed": true
   },
   "outputs": [],
   "source": [
    "import functools"
   ]
  },
  {
   "cell_type": "markdown",
   "metadata": {},
   "source": [
    "**@functools.lru_cache(maxsize=128, typed=False)** - позволяет сохранять результаты maxsize последних вызовов. Очень полезно для сохранения результатов долгих вычислений.\n",
    "\n",
    "Поскольку в качестве кэша используется словарь, все аргументы должны быть хешируемыми"
   ]
  },
  {
   "cell_type": "markdown",
   "metadata": {},
   "source": [
    "### Упражнение 1\n",
    "\n",
    "Напишите **не самую лучшую** версию вычисления чисел Фибоначчи (через рекурсию), только для демонстрации силы lru_cache.\n",
    "\n",
    "А теперь запустите ее с достаточно большим n с декоратором и без"
   ]
  },
  {
   "cell_type": "code",
   "execution_count": null,
   "metadata": {
    "collapsed": true
   },
   "outputs": [],
   "source": []
  },
  {
   "cell_type": "markdown",
   "metadata": {},
   "source": [
    "**@functools.total_ordering** - декоратор класса, в котором задан один или более методов сравнения. Этот декоратор автоматически добавляет все остальные методы. Класс должен определять один из методов \\__lt\\__(), \\__le\\__(), \\__gt\\__(), или \\__ge\\__(). Кроме того, он должен определять метод \\__eq\\__().\n",
    "\n",
    "Применение:\n",
    "```\n",
    "@total_ordering\n",
    "class Student:\n",
    "    pass\n",
    "```"
   ]
  },
  {
   "cell_type": "markdown",
   "metadata": {},
   "source": [
    "### Упражнение 2\n",
    "\n",
    "Напишите класс **Student**, в котором будут атрибуты firstname, lastname и методы \\__lt\\__(), \\__eq\\__(). Добавьте декоратор, запустите код и убедитесь в том, что декоратор работает так, как надо (добавляет остальные функции сравнения)"
   ]
  },
  {
   "cell_type": "code",
   "execution_count": null,
   "metadata": {
    "collapsed": true
   },
   "outputs": [],
   "source": []
  },
  {
   "cell_type": "markdown",
   "metadata": {},
   "source": [
    "С функцией reduce вы уже знакомы (эта built-in функция с 3 питона доступна во 2 через functools модуль). Поведение аналогично:\n",
    "\n",
    "**functools.reduce(function, iterable[, initializer])** - берёт два первых элемента, применяет к ним функцию, берёт значение и третий элемент, и таким образом сворачивает iterable в одно значение. Если задан initializer, он помещается в начале последовательности.\n",
    "\n"
   ]
  },
  {
   "cell_type": "markdown",
   "metadata": {},
   "source": [
    "### Упражнение 3\n",
    "\n",
    "Напишите функцию, использующую reduce, которая суммирует все числа в списке"
   ]
  },
  {
   "cell_type": "code",
   "execution_count": null,
   "metadata": {
    "collapsed": true
   },
   "outputs": [],
   "source": []
  },
  {
   "cell_type": "markdown",
   "metadata": {},
   "source": [
    "functools.partial(func, \\*args, \\**keywords) - возвращает partial-объект (по сути, функцию), который при вызове вызывается как функция func, но дополнительно передают туда позиционные аргументы args, и именованные аргументы kwargs. Если другие аргументы передаются при вызове функции, то позиционные добавляются в конец, а именованные расширяют и перезаписывают.\n",
    "\n",
    "Пример:\n",
    "```\n",
    "from functools import partial\n",
    "basetwo = partial(int, base=2)\n",
    "basetwo.__doc__ = 'Convert base 2 string to an int.'\n",
    "print(basetwo('10010'))\n",
    "```"
   ]
  },
  {
   "cell_type": "markdown",
   "metadata": {},
   "source": [
    "### Упражнение 4\n",
    "\n",
    "С помощью partial и уже готовой функции add создайте функцию add2, которая принимает один аргумент x и возвращает результат: x+2\n"
   ]
  },
  {
   "cell_type": "code",
   "execution_count": null,
   "metadata": {
    "collapsed": true
   },
   "outputs": [],
   "source": [
    "def add(a, b):\n",
    "    return a + b"
   ]
  },
  {
   "cell_type": "markdown",
   "metadata": {},
   "source": [
    "**functools.update_wrapper(wrapper, wrapped, assigned=WRAPPER_ASSIGNMENTS, updated=WRAPPER_UPDATES)**\n",
    "\n",
    "Обновляет функцию-оболочку, чтобы она стала похожей на обёрнутую функцию. assigned - кортеж, указывающий, какие атрибуты исходной функции копируются в функцию-оболочку (по умолчанию это WRAPPER_ASSIGNMENTS (\\__name\\__, \\__module\\__, \\__annotations\\__ и \\__doc\\__)). updated - кортеж, указывающий, какие атрибуты обновляются (по умолчанию это WRAPPER_UPDATES (обновляется \\__dict\\__ функции-оболочки)).\n",
    "\n",
    "**@functools.wraps(wrapped, assigned=WRAPPER_ASSIGNMENTS, updated=WRAPPER_UPDATES)**\n",
    "\n",
    "Удобная функция для вызова partial(update_wrapper, wrapped=wrapped, assigned=assigned, updated=updated) как декоратора при определении функции-оболочки. Например:"
   ]
  },
  {
   "cell_type": "markdown",
   "metadata": {},
   "source": [
    "Все понятнее с примером (мы пытаемся решить проблему с тем, что при доступе к атрибуту, скажем \\__name\\__, мы увидели декоратор, а не вызываемую функцию):"
   ]
  },
  {
   "cell_type": "code",
   "execution_count": null,
   "metadata": {
    "collapsed": true
   },
   "outputs": [],
   "source": [
    "def foo(f):\n",
    "    def wrapper(*args, **kwargs):\n",
    "        return f(*args, **kwargs)\n",
    "    return wrapper\n",
    "\n",
    "@foo\n",
    "def bar(x, y):\n",
    "    return x + y\n",
    "\n",
    "print(bar(1, 2))\n",
    "(bar.__name__)"
   ]
  },
  {
   "cell_type": "code",
   "execution_count": null,
   "metadata": {
    "collapsed": true
   },
   "outputs": [],
   "source": [
    "@wraps\n",
    "def foo(f):\n",
    "    def wrapper(*args, **kwargs):\n",
    "        return f(*args, **kwargs)\n",
    "    return wrapper\n",
    "\n",
    "@foo\n",
    "def bar(x, y):\n",
    "    return x + y\n",
    "\n",
    "print(bar(1, 2))\n",
    "(bar.__name__)"
   ]
  },
  {
   "cell_type": "code",
   "execution_count": null,
   "metadata": {
    "collapsed": true
   },
   "outputs": [],
   "source": []
  },
  {
   "cell_type": "markdown",
   "metadata": {},
   "source": [
    "# copy\n",
    "\n",
    "Модуль **copy** - поверхностное и глубокое копирование объектов"
   ]
  },
  {
   "cell_type": "code",
   "execution_count": null,
   "metadata": {
    "collapsed": true
   },
   "outputs": [],
   "source": [
    "import copy"
   ]
  },
  {
   "cell_type": "markdown",
   "metadata": {},
   "source": [
    "В чем проблема?"
   ]
  },
  {
   "cell_type": "code",
   "execution_count": null,
   "metadata": {
    "collapsed": true
   },
   "outputs": [],
   "source": [
    "a = [1,2,3]\n",
    "b = a\n",
    "print(id(b) == id(a))"
   ]
  },
  {
   "cell_type": "markdown",
   "metadata": {},
   "source": [
    "Но ведь тогда мы можем сделать так:"
   ]
  },
  {
   "cell_type": "code",
   "execution_count": null,
   "metadata": {
    "collapsed": true
   },
   "outputs": [],
   "source": [
    "a = [1,2,3]\n",
    "b = a.copy()\n",
    "\n",
    "print(id(b) == id(a))"
   ]
  },
  {
   "cell_type": "markdown",
   "metadata": {},
   "source": [
    "Да..., но ведь так работает не всегда!"
   ]
  },
  {
   "cell_type": "code",
   "execution_count": null,
   "metadata": {
    "collapsed": true
   },
   "outputs": [],
   "source": [
    "class A():\n",
    "    pass\n",
    "\n",
    "a = A()\n",
    "b = a\n",
    "print(id(a) == id(b))\n",
    "c = a.copy()\n",
    "print(id(c) == id(a))"
   ]
  },
  {
   "cell_type": "markdown",
   "metadata": {},
   "source": [
    "А теперь модуль copy и функция поверхностного (верхний итератор) копирования copy:"
   ]
  },
  {
   "cell_type": "code",
   "execution_count": null,
   "metadata": {
    "collapsed": true
   },
   "outputs": [],
   "source": [
    "c = copy.copy(a)\n",
    "print(id(c) == id(a))"
   ]
  },
  {
   "cell_type": "markdown",
   "metadata": {},
   "source": [
    "Модуль содержит и функцию глубокого копирования **deepcopy**, которая проходится по всем объектам рекурсивно и копирует их в новый объект"
   ]
  },
  {
   "cell_type": "markdown",
   "metadata": {},
   "source": [
    "* Поверхностная копия создает новый составной объект, и затем (по мере возможности) вставляет в него ссылки на объекты, находящиеся в оригинале.\n",
    "* Глубокая копия создает новый составной объект, и затем рекурсивно вставляет в него копии объектов, находящихся в оригинале."
   ]
  },
  {
   "cell_type": "markdown",
   "metadata": {},
   "source": [
    "И все таки, что же это значит?"
   ]
  },
  {
   "cell_type": "markdown",
   "metadata": {},
   "source": [
    "### Упражнение 1\n",
    "\n",
    "Проверьте работу **copy** и **deepcopy** на вложенных структурах (с проверкой идентификаторов внутренних структур).\n",
    "\n",
    "К примеру, вы можете, для начала, создать несколько списков, вложенных в список и скопировать его сначала **copy**, а затем, **deepcopy**"
   ]
  },
  {
   "cell_type": "code",
   "execution_count": null,
   "metadata": {
    "collapsed": true
   },
   "outputs": [],
   "source": []
  }
 ],
 "metadata": {
  "kernelspec": {
   "display_name": "Python 3",
   "language": "python",
   "name": "python3"
  },
  "language_info": {
   "codemirror_mode": {
    "name": "ipython",
    "version": 3
   },
   "file_extension": ".py",
   "mimetype": "text/x-python",
   "name": "python",
   "nbconvert_exporter": "python",
   "pygments_lexer": "ipython3",
   "version": "3.6.3"
  }
 },
 "nbformat": 4,
 "nbformat_minor": 2
}
