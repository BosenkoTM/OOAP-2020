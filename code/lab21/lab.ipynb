{
 "cells": [
  {
   "cell_type": "markdown",
   "metadata": {},
   "source": [
    "**Разрежённая матрица** — это матрица с преимущественно нулевыми элементами. В противном случае, если бо́льшая часть элементов матрицы ненулевые, матрица считается плотной.\n",
    "\n",
    "В библиотеке SciPy есть много способок для создания, хранения и работы с разреженными матрицами. Существует 7 различных типов разреженных матриц:\n",
    "* bsr_matrix: Block Sparse Row matrix\n",
    "* coo_matrix: COOrdinate format matrix\n",
    "* csc_matrix: Compressed Sparse Column matrix\n",
    "* csr_matrix: Compressed Sparse Row matrix\n",
    "* dia_matrix: Sparse matrix with DIAgonal storage\n",
    "* dok_matrix: Dictionary Of Keys based sparse matrix.\n",
    "* lil_matrix: Row-based linked list sparse matrix\n",
    "\n",
    "**Что из этого выбрать? Зачем все это?**\n",
    "\n",
    "Каждая из этих разреженных матриц эффективна и быстра для определенных операций. Например, если вы хотите создать новую разреженную матрицу с нуля, эффективны lil_matrix или dok_matrix. Однако арифметические операции над этими матрицами не эффективны. coo_matrix имеет похожие свойства; удобна для создания разреженной матрицы, но плохо подходит для операций.\n",
    "\n",
    "Если вы хотите совершать матричные операции, таких как умножение или инверсия, лучше использовать формат CSC или CSR матриц. Из-за особенностей реализации, csc_matrix имеет более быструю и эффективную слайсинг столбцов, в то время как csr_matrix имеет более эффективную слайсинг строк.\n",
    "\n",
    "Выбор правильной разреженной матрицы зависит от залачи. Как правило, вам может потребоваться использовать несколько форматов разреженной матрицы, чтобы выполнить работу задачу эффективно."
   ]
  },
  {
   "cell_type": "code",
   "execution_count": 2,
   "metadata": {},
   "outputs": [],
   "source": [
    "from scipy import sparse\n",
    "# import uniform module to create random numbers\n",
    "from scipy.stats import uniform\n",
    "import numpy as np"
   ]
  },
  {
   "cell_type": "markdown",
   "metadata": {},
   "source": [
    "Одним из наиболее интуитивно понятных видом матриц является COOordinate разреженная матрица. \n",
    "Можно быстро создать разреженную матрицу COO. \n",
    "Для этого нужны координаты ненулевых элементов в разреженной матрице.\n",
    "\n",
    "Для создания coo_matrix нам понадобится 3 одномерных массива numpy. \n",
    "Первый массив содержит строковые индексы, \n",
    "второй массив содержит индексы столбцов, \n",
    "а третий массив содержит ненулевые данные. \n",
    "\n",
    "Давайте создадим разреженную матрицу в формате COO, используя простой пример.\n",
    "Давайте сначала создадим 3 отдельных массива, необходимых для создания разреженной матрицы COO."
   ]
  },
  {
   "cell_type": "code",
   "execution_count": 4,
   "metadata": {},
   "outputs": [],
   "source": [
    "# row indices\n",
    "row_ind = np.array([0, 1, 1, 3, 4])\n",
    "# column indices\n",
    "col_ind = np.array([0, 2, 4, 3, 4])\n",
    "# data to be stored in COO sparse matrix\n",
    "data = np.array([1, 2, 3, 4, 5], dtype=float)"
   ]
  },
  {
   "cell_type": "markdown",
   "metadata": {},
   "source": [
    "Мы можем использовать sparse.coo_matrix для создания разреженной матрицы в формате COO. \n",
    "На вход подается данные и кортеж из индексов."
   ]
  },
  {
   "cell_type": "code",
   "execution_count": 6,
   "metadata": {},
   "outputs": [
    {
     "name": "stdout",
     "output_type": "stream",
     "text": [
      "  (0, 0)\t1.0\n",
      "  (1, 2)\t2.0\n",
      "  (1, 4)\t3.0\n",
      "  (3, 3)\t4.0\n",
      "  (4, 4)\t5.0\n"
     ]
    }
   ],
   "source": [
    "# create COO sparse matrix from three arrays\n",
    "mat_coo = sparse.coo_matrix((data, (row_ind, col_ind)))\n",
    "# print coo_matrix\n",
    "print(mat_coo)"
   ]
  },
  {
   "cell_type": "code",
   "execution_count": 8,
   "metadata": {},
   "outputs": [
    {
     "data": {
      "text/plain": [
       "matrix([[1., 0., 0., 0., 0.],\n",
       "        [0., 0., 2., 0., 3.],\n",
       "        [0., 0., 0., 0., 0.],\n",
       "        [0., 0., 0., 4., 0.],\n",
       "        [0., 0., 0., 0., 5.]])"
      ]
     },
     "execution_count": 8,
     "metadata": {},
     "output_type": "execute_result"
    }
   ],
   "source": [
    "# Эта же матрица в плотном виде\n",
    "mat_coo.todense()"
   ]
  },
  {
   "cell_type": "code",
   "execution_count": 10,
   "metadata": {},
   "outputs": [
    {
     "data": {
      "text/plain": [
       "array([[1., 0., 0., 0., 0.],\n",
       "       [0., 0., 2., 0., 3.],\n",
       "       [0., 0., 0., 0., 0.],\n",
       "       [0., 0., 0., 4., 0.],\n",
       "       [0., 0., 0., 0., 5.]])"
      ]
     },
     "execution_count": 10,
     "metadata": {},
     "output_type": "execute_result"
    }
   ],
   "source": [
    "# Эта же матрица в плотном виде\n",
    "mat_coo.toarray()"
   ]
  },
  {
   "cell_type": "markdown",
   "metadata": {},
   "source": [
    "Пример преобразования coo матрицы в CSC."
   ]
  },
  {
   "cell_type": "code",
   "execution_count": 12,
   "metadata": {},
   "outputs": [
    {
     "name": "stdout",
     "output_type": "stream",
     "text": [
      "  (0, 0)\t1.0\n",
      "  (1, 2)\t2.0\n",
      "  (3, 3)\t4.0\n",
      "  (1, 4)\t3.0\n",
      "  (4, 4)\t5.0\n"
     ]
    }
   ],
   "source": [
    "print(mat_coo.tocsc())"
   ]
  },
  {
   "cell_type": "code",
   "execution_count": 15,
   "metadata": {},
   "outputs": [
    {
     "name": "stdout",
     "output_type": "stream",
     "text": [
      "<class 'scipy.sparse.coo.coo_matrix'>\n",
      "<class 'scipy.sparse.csc.csc_matrix'>\n"
     ]
    }
   ],
   "source": [
    "print(type(mat_coo))\n",
    "print(type(mat_coo.tocsc()))"
   ]
  },
  {
   "cell_type": "markdown",
   "metadata": {},
   "source": [
    "### How to Create Sparse Matrix from a Dense (full) Matrix?\n",
    "\n",
    "В приведенном выше примере создания матрицы COO данные были в специальном формате, который редко используется в повседневной работе, и поэтому мы могли использовать его для создания разреженной матрицы COO. В большинстве случаев мы начинаем работать с плотной матрицей в качестве исходных данных. Вот пример, показывающий, как использовать существующий 2d-массив / матрицу для создания разреженной матрицы.\n",
    "\n",
    "На этот раз мы создадим разреженную матрицу csr_matrix. И мы также создадим полную матрицу, используя случайные числа из равномерного распределения в SciPy.stats.\n",
    "\n",
    "Давайте зафиксируем начальное число для генерации случайных чисел, чтобы мы могли воспроизвести те же самые случайные числа. Мы будем использовать модуль SciPy.stats, чтобы создать тренирочвочную разреженную матрицу с 4 строками и 4 столбцами.\n",
    "\n",
    "Сначала мы создадим одинаковые случайные числа от 0 до 2 в массиве 1d NumPy. А затем используйте функцию изменения размерности, чтобы сделать его двумерным массивом, то есть матрицей\\тензером или как вам угодно."
   ]
  },
  {
   "cell_type": "code",
   "execution_count": 16,
   "metadata": {},
   "outputs": [
    {
     "data": {
      "text/plain": [
       "array([[0.74908024, 1.90142861, 1.46398788, 1.19731697],\n",
       "       [0.31203728, 0.31198904, 0.11616722, 1.73235229],\n",
       "       [1.20223002, 1.41614516, 0.04116899, 1.9398197 ],\n",
       "       [1.66488528, 0.42467822, 0.36364993, 0.36680902]])"
      ]
     },
     "execution_count": 16,
     "metadata": {},
     "output_type": "execute_result"
    }
   ],
   "source": [
    "np.random.seed(seed=42)\n",
    "data = uniform.rvs(size=16, loc = 0, scale=2)\n",
    "data = np.reshape(data, (4, 4))\n",
    "data"
   ]
  },
  {
   "cell_type": "markdown",
   "metadata": {},
   "source": [
    "Давайте преобразуем эту полную матрицу в разреженную матрицу. \n",
    "Для начала сделаем некоторые элементы матрицы нулевыми. \n",
    "Здесь любому элементу со значенияи меньше 1 будет присвоен 0. \n",
    "Теперь половина элементов этой матрицы равна нулю."
   ]
  },
  {
   "cell_type": "code",
   "execution_count": 18,
   "metadata": {},
   "outputs": [
    {
     "data": {
      "text/plain": [
       "array([[0.        , 1.90142861, 1.46398788, 1.19731697],\n",
       "       [0.        , 0.        , 0.        , 1.73235229],\n",
       "       [1.20223002, 1.41614516, 0.        , 1.9398197 ],\n",
       "       [1.66488528, 0.        , 0.        , 0.        ]])"
      ]
     },
     "execution_count": 18,
     "metadata": {},
     "output_type": "execute_result"
    }
   ],
   "source": [
    "data[data < 1] = 0\n",
    "data"
   ]
  },
  {
   "cell_type": "markdown",
   "metadata": {},
   "source": [
    "Давайте преобразуем эту полную матрицу с нулями в разреженную матрицу, используя соответствущий модуль в SciPy. \n",
    "Как вы только что увидели, SciPy имеет несколько констукторов для разреженных матриц. \n",
    "Мы будем использовать csr_matrix, где csr обозначает Compressed Sparse Row."
   ]
  },
  {
   "cell_type": "code",
   "execution_count": 20,
   "metadata": {},
   "outputs": [
    {
     "name": "stdout",
     "output_type": "stream",
     "text": [
      "  (0, 1)\t1.9014286128198323\n",
      "  (0, 2)\t1.4639878836228102\n",
      "  (0, 3)\t1.1973169683940732\n",
      "  (1, 3)\t1.7323522915498704\n",
      "  (2, 0)\t1.2022300234864176\n",
      "  (2, 1)\t1.416145155592091\n",
      "  (2, 3)\t1.9398197043239886\n",
      "  (3, 0)\t1.6648852816008435\n"
     ]
    }
   ],
   "source": [
    "data_csr = sparse.csr_matrix(data)\n",
    "print(data_csr)"
   ]
  },
  {
   "cell_type": "markdown",
   "metadata": {},
   "source": [
    "### А зачем вообще все это? Сколько же памяти мы экономим?"
   ]
  },
  {
   "cell_type": "markdown",
   "metadata": {},
   "source": [
    "Одним из реальных применений разреженных матриц является экономия памяти. Давайте создадим большую полную матрицу, используя однородные случайные числа."
   ]
  },
  {
   "cell_type": "code",
   "execution_count": 30,
   "metadata": {},
   "outputs": [
    {
     "name": "stdout",
     "output_type": "stream",
     "text": [
      "Size of full matrix with zeros: 76.29 MB\n"
     ]
    }
   ],
   "source": [
    "np.random.seed(seed=42)\n",
    "data = uniform.rvs(size=10000000, loc = 0, scale=2)\n",
    "data = np.reshape(data, (10000, 1000))\n",
    "\n",
    "# Сделаем её менее плотной\n",
    "data[data < 1] = 0\n",
    "data_size = data.nbytes/(1024**2)\n",
    "print('Size of full matrix with zeros: '+ '%3.2f' %data_size + ' MB')"
   ]
  },
  {
   "cell_type": "code",
   "execution_count": 31,
   "metadata": {},
   "outputs": [
    {
     "name": "stdout",
     "output_type": "stream",
     "text": [
      "Size of sparse csr_matrix: 4.77 MB\n"
     ]
    }
   ],
   "source": [
    "data_csr = sparse.csr_matrix(data)\n",
    "data_csr_size = data_csr.data.size/(1024**2)\n",
    "print('Size of sparse csr_matrix: '+ '%3.2f' %data_csr_size + ' MB')"
   ]
  },
  {
   "cell_type": "markdown",
   "metadata": {},
   "source": [
    "Как видим, мы выиграли более чем в 10 раз по памяти"
   ]
  },
  {
   "cell_type": "markdown",
   "metadata": {},
   "source": [
    "### Задание:\n",
    "Посмтрите документацию и разберитесь с другими констуркторами"
   ]
  }
 ],
 "metadata": {
  "kernelspec": {
   "display_name": "Python 3",
   "language": "python",
   "name": "python3"
  },
  "language_info": {
   "codemirror_mode": {
    "name": "ipython",
    "version": 3
   },
   "file_extension": ".py",
   "mimetype": "text/x-python",
   "name": "python",
   "nbconvert_exporter": "python",
   "pygments_lexer": "ipython3",
   "version": "3.7.0"
  }
 },
 "nbformat": 4,
 "nbformat_minor": 2
}
